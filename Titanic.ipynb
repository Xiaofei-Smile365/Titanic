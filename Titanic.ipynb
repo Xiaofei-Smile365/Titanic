{
 "cells": [
  {
   "cell_type": "code",
   "execution_count": null,
   "id": "21f17341",
   "metadata": {},
   "outputs": [],
   "source": [
    "!kaggle competitions download -c titanic"
   ]
  },
  {
   "cell_type": "code",
   "execution_count": null,
   "id": "cb1990ae",
   "metadata": {},
   "outputs": [],
   "source": [
    "!unzip titanic.zip"
   ]
  },
  {
   "cell_type": "code",
   "execution_count": null,
   "id": "78fc8fa5",
   "metadata": {},
   "outputs": [],
   "source": [
    "import pandas as pd\n",
    "import numpy as np\n",
    "import matplotlib.pyplot as plt\n",
    "%matplotlib inline\n",
    "import seaborn as sns\n",
    "\n",
    "#Machine Learning\n",
    "from sklearn.preprocessing import StandardScaler, LabelEncoder\n",
    "from sklearn.model_selection import train_test_split, GridSearchCV, cross_val_score\n",
    "from sklearn.linear_model import LogisticRegression\n",
    "from sklearn.tree import DecisionTreeClassifier\n",
    "from sklearn.ensemble import RandomForestClassifier\n",
    "from sklearn.neighbors import KNeighborsClassifier\n",
    "from sklearn.naive_bayes import GaussianNB  \n",
    "from sklearn.metrics import confusion_matrix, accuracy_score\n",
    "\n",
    "import warnings\n",
    "warnings.filterwarnings('ignore')"
   ]
  },
  {
   "cell_type": "code",
   "execution_count": null,
   "id": "a3ce95e7",
   "metadata": {},
   "outputs": [],
   "source": [
    "train_df = pd.read_csv('./train.csv')\n",
    "test_df = pd.read_csv('./test.csv')"
   ]
  },
  {
   "cell_type": "code",
   "execution_count": null,
   "id": "1326d960",
   "metadata": {},
   "outputs": [],
   "source": [
    "train_df.info()"
   ]
  },
  {
   "cell_type": "code",
   "execution_count": null,
   "id": "f94099a4",
   "metadata": {},
   "outputs": [],
   "source": [
    "train_df.describe(include='all')"
   ]
  },
  {
   "cell_type": "code",
   "execution_count": null,
   "id": "3d49466f",
   "metadata": {},
   "outputs": [],
   "source": [
    "pd.isnull(train_df).sum()/len(train_df)*100"
   ]
  },
  {
   "cell_type": "code",
   "execution_count": null,
   "id": "9f4478ce",
   "metadata": {},
   "outputs": [],
   "source": [
    "train_df['Age'].isnull().sum()"
   ]
  },
  {
   "cell_type": "code",
   "execution_count": null,
   "id": "5ba94d6c",
   "metadata": {},
   "outputs": [],
   "source": [
    "train_df.Survived.value_counts()"
   ]
  },
  {
   "cell_type": "code",
   "execution_count": null,
   "id": "7acaa164",
   "metadata": {},
   "outputs": [],
   "source": [
    "train_df.Survived.value_counts()/len(train_df)*100"
   ]
  },
  {
   "cell_type": "code",
   "execution_count": null,
   "id": "401acbe5",
   "metadata": {},
   "outputs": [],
   "source": [
    "train_df.columns"
   ]
  },
  {
   "cell_type": "code",
   "execution_count": null,
   "id": "8bc1b66a",
   "metadata": {},
   "outputs": [],
   "source": [
    "train_df.Pclass.value_counts()"
   ]
  },
  {
   "cell_type": "code",
   "execution_count": null,
   "id": "fcbfc800",
   "metadata": {},
   "outputs": [],
   "source": [
    "sns.barplot(x='Pclass', y='Survived', data=train_df)\n",
    "\n",
    "Pclass1 = train_df['Survived'][train_df['Pclass']==1].value_counts(normalize=True)[1]*100\n",
    "Pclass2 = train_df['Survived'][train_df['Pclass']==2].value_counts(normalize=True)[1]*100\n",
    "Pclass3 = train_df['Survived'][train_df['Pclass']==3].value_counts(normalize=True)[1]*100\n",
    "\n",
    "print(f\"Percentage of Pclass 1 who survived:{Pclass1}\")\n",
    "print(f\"Percentage of Pclass 2 who survived:{Pclass2}\")\n",
    "print(f\"Percentage of Pclass 3 who survived:{Pclass3}\")"
   ]
  },
  {
   "cell_type": "code",
   "execution_count": null,
   "id": "4955f448",
   "metadata": {},
   "outputs": [],
   "source": [
    "train_df.Sex.value_counts()"
   ]
  },
  {
   "cell_type": "code",
   "execution_count": null,
   "id": "70d43a76",
   "metadata": {},
   "outputs": [],
   "source": [
    "sns.barplot(x='Sex', y='Survived', data=train_df)\n",
    "\n",
    "female = train_df['Survived'][train_df['Sex']=='female'].value_counts(normalize=True)[1]*100\n",
    "male = train_df['Survived'][train_df['Sex']=='male'].value_counts(normalize=True)[1]*100\n",
    "\n",
    "print(f\"Percentage of females who survived:{female}\")\n",
    "print(f\"Percentage of males who survived:{male}\")"
   ]
  },
  {
   "cell_type": "code",
   "execution_count": null,
   "id": "54559f0d",
   "metadata": {},
   "outputs": [],
   "source": [
    "sns.barplot(y='Survived', x='Sex', hue='Pclass', data=train_df)"
   ]
  },
  {
   "cell_type": "code",
   "execution_count": null,
   "id": "5e5dbb58",
   "metadata": {},
   "outputs": [],
   "source": [
    "train_df.Age.value_counts()"
   ]
  },
  {
   "cell_type": "code",
   "execution_count": null,
   "id": "73aaa228",
   "metadata": {},
   "outputs": [],
   "source": [
    "train_df.Age.value_counts().nlargest(5).plot.barh()"
   ]
  },
  {
   "cell_type": "code",
   "execution_count": null,
   "id": "896d167a",
   "metadata": {},
   "outputs": [],
   "source": [
    "sns.histplot(x='Age', data=train_df, bins=20)"
   ]
  },
  {
   "cell_type": "code",
   "execution_count": null,
   "id": "c302fad6",
   "metadata": {},
   "outputs": [],
   "source": [
    "train_df.SibSp.value_counts()"
   ]
  },
  {
   "cell_type": "code",
   "execution_count": null,
   "id": "24e391ee",
   "metadata": {},
   "outputs": [],
   "source": [
    "sns.barplot(x='SibSp', y='Survived', data=train_df)"
   ]
  },
  {
   "cell_type": "code",
   "execution_count": null,
   "id": "bdc8c747",
   "metadata": {},
   "outputs": [],
   "source": [
    "train_df.Parch.value_counts()"
   ]
  },
  {
   "cell_type": "code",
   "execution_count": null,
   "id": "da92dc74",
   "metadata": {},
   "outputs": [],
   "source": [
    "sns.barplot(x='Parch', y='Survived', data=train_df)"
   ]
  },
  {
   "cell_type": "code",
   "execution_count": null,
   "id": "91944a41",
   "metadata": {},
   "outputs": [],
   "source": [
    "sns.distplot(train_df['Fare'], bins=20, kde=True, vertical=False)"
   ]
  },
  {
   "cell_type": "code",
   "execution_count": null,
   "id": "735fdee2",
   "metadata": {},
   "outputs": [],
   "source": [
    "train_df.Embarked.value_counts()"
   ]
  },
  {
   "cell_type": "code",
   "execution_count": null,
   "id": "6b2f2dea",
   "metadata": {},
   "outputs": [],
   "source": [
    "sns.barplot(x='Embarked', y='Survived', data=train_df)\n",
    "\n",
    "embS = train_df['Survived'][train_df['Embarked']=='S'].value_counts(normalize=True)[1]*100\n",
    "embC = train_df['Survived'][train_df['Embarked']=='C'].value_counts(normalize=True)[1]*100\n",
    "embQ = train_df['Survived'][train_df['Embarked']=='Q'].value_counts(normalize=True)[1]*100\n",
    "\n",
    "print(f\"Percentage of Embarked S who survived:{embS}\")\n",
    "print(f\"Percentage of Embarked C who survived:{embC}\")\n",
    "print(f\"Percentage of Embarked Q who survived:{embQ}\")"
   ]
  },
  {
   "cell_type": "code",
   "execution_count": null,
   "id": "1c73c380",
   "metadata": {},
   "outputs": [],
   "source": [
    "train_df['Embarked'].isnull().sum()"
   ]
  },
  {
   "cell_type": "code",
   "execution_count": null,
   "id": "66358ce4",
   "metadata": {},
   "outputs": [],
   "source": [
    "train_df = train_df.fillna({'Embarked':'S'})"
   ]
  },
  {
   "cell_type": "code",
   "execution_count": null,
   "id": "756e4d47",
   "metadata": {},
   "outputs": [],
   "source": [
    "train_df['Embarked'].isnull().sum()"
   ]
  },
  {
   "cell_type": "code",
   "execution_count": null,
   "id": "220be761",
   "metadata": {},
   "outputs": [],
   "source": [
    "train_df['Age'].isnull().sum()"
   ]
  },
  {
   "cell_type": "code",
   "execution_count": null,
   "id": "b1174e0e",
   "metadata": {},
   "outputs": [],
   "source": [
    "train_df.Age = train_df.Age.fillna(value=train_df.Age.mean())"
   ]
  },
  {
   "cell_type": "code",
   "execution_count": null,
   "id": "67b41896",
   "metadata": {},
   "outputs": [],
   "source": [
    "train_df['Age'].isnull().sum()"
   ]
  },
  {
   "cell_type": "code",
   "execution_count": null,
   "id": "1a54bc8e",
   "metadata": {},
   "outputs": [],
   "source": [
    "train_df = train_df.drop(['Name'], axis=1)\n",
    "test_df = test_df.drop(['Name'], axis=1)\n",
    "\n",
    "train_df = train_df.drop(['Ticket'], axis=1)\n",
    "test_df = test_df.drop(['Ticket'], axis=1)\n",
    "\n",
    "train_df = train_df.drop(['Cabin'], axis=1)\n",
    "test_df = test_df.drop(['Cabin'], axis=1)"
   ]
  },
  {
   "cell_type": "code",
   "execution_count": null,
   "id": "f7fee150",
   "metadata": {},
   "outputs": [],
   "source": [
    "train_df.head()"
   ]
  },
  {
   "cell_type": "code",
   "execution_count": null,
   "id": "b2330e96",
   "metadata": {},
   "outputs": [],
   "source": [
    "test_df.head()"
   ]
  },
  {
   "cell_type": "code",
   "execution_count": null,
   "id": "c95de225",
   "metadata": {},
   "outputs": [],
   "source": [
    "train_df = pd.get_dummies(train_df, drop_first=True)\n",
    "test_df = pd.get_dummies(test_df, drop_first=True)"
   ]
  },
  {
   "cell_type": "code",
   "execution_count": null,
   "id": "4e766e54",
   "metadata": {},
   "outputs": [],
   "source": [
    "train_df.head()"
   ]
  },
  {
   "cell_type": "code",
   "execution_count": null,
   "id": "f33a7f21",
   "metadata": {},
   "outputs": [],
   "source": [
    "test_df.head()"
   ]
  },
  {
   "cell_type": "code",
   "execution_count": null,
   "id": "3691781e",
   "metadata": {},
   "outputs": [],
   "source": [
    "X = train_df.drop(['Survived', 'PassengerId'], axis=1)\n",
    "y = train_df['Survived']"
   ]
  },
  {
   "cell_type": "code",
   "execution_count": null,
   "id": "428141df",
   "metadata": {},
   "outputs": [],
   "source": [
    "sc = StandardScaler()\n",
    "X = sc.fit_transform(X)"
   ]
  },
  {
   "cell_type": "code",
   "execution_count": null,
   "id": "e0b15b42",
   "metadata": {},
   "outputs": [],
   "source": [
    "X_train, X_test, y_train, y_test = train_test_split(X, y, test_size=0.2, random_state=42)"
   ]
  },
  {
   "cell_type": "code",
   "execution_count": null,
   "id": "586cbdc1",
   "metadata": {},
   "outputs": [],
   "source": [
    "lst_model = []\n",
    "lst_accuracy = []\n",
    "lst_accuracy_train = []\n",
    "lst_accuracy_test = []\n",
    "lst_cv_score = []\n",
    "lst_TP = []\n",
    "lst_TN = []\n",
    "lst_FP = []\n",
    "lst_FN = []\n",
    "\n",
    "def applyMLmodel(model):\n",
    "    model.fit(X_train, y_train)\n",
    "    accuracy = model.score(X_test, y_test)*100\n",
    "    lst_accuracy.append(accuracy)\n",
    "    print(\"Accuracy:\", accuracy)\n",
    "    \n",
    "    cv = cross_val_score(estimator=model, X=X_train, y=y_train.ravel(), cv=10)\n",
    "    lst_cv_score.append(cv.mean())\n",
    "    print(\"CV Score:\", cv.mean())\n",
    "    \n",
    "    y_pred_train = model.predict(X_train)\n",
    "    accuracy_train = accuracy_score(y_train, y_pred_train)\n",
    "    lst_accuracy_train.append(accuracy_train)\n",
    "    print(\"Accuracy(Training):\", accuracy_train)\n",
    "    \n",
    "    y_pred_test = model.predict(X_test)\n",
    "    accuracy_test = accuracy_score(y_test, y_pred_test)\n",
    "    lst_accuracy_test.append(accuracy_test)\n",
    "    print(\"Accuracy(Test):\", accuracy_test)\n",
    "    \n",
    "    cm = confusion_matrix(y_test, y_pred_test)\n",
    "    print(\"Confusion Matrix:\", \"\\n\", cm)\n",
    "    \n",
    "    lst_TN.append(cm[0, 0])\n",
    "    lst_FP.append(cm[0, 1])\n",
    "    lst_FN.append(cm[1, 0])\n",
    "    lst_TP.append(cm[1, 1])"
   ]
  },
  {
   "cell_type": "code",
   "execution_count": null,
   "id": "cc3f4445",
   "metadata": {},
   "outputs": [],
   "source": [
    "model = LogisticRegression()\n",
    "applyMLmodel(model)\n",
    "lst_model.append(\"LogisticRegression\")"
   ]
  },
  {
   "cell_type": "code",
   "execution_count": null,
   "id": "a17b56d0",
   "metadata": {},
   "outputs": [],
   "source": [
    "model = DecisionTreeClassifier()\n",
    "applyMLmodel(model)\n",
    "lst_model.append(\"DecisionTreeClassifier\")"
   ]
  },
  {
   "cell_type": "code",
   "execution_count": null,
   "id": "3428f54f",
   "metadata": {},
   "outputs": [],
   "source": [
    "modelR = RandomForestClassifier()\n",
    "applyMLmodel(modelR)\n",
    "lst_model.append(\"RandomForestClassifier\")"
   ]
  },
  {
   "cell_type": "code",
   "execution_count": null,
   "id": "15724580",
   "metadata": {},
   "outputs": [],
   "source": [
    "model = KNeighborsClassifier()\n",
    "applyMLmodel(model)\n",
    "lst_model.append(\"KNeighborsClassifier\")"
   ]
  },
  {
   "cell_type": "code",
   "execution_count": null,
   "id": "93b7e306",
   "metadata": {},
   "outputs": [],
   "source": [
    "model = GaussianNB()\n",
    "applyMLmodel(model)\n",
    "lst_model.append(\"GaussianNB\")"
   ]
  },
  {
   "cell_type": "code",
   "execution_count": null,
   "id": "c08fedd6",
   "metadata": {},
   "outputs": [],
   "source": [
    "predictiondf = pd.DataFrame({\"Model\": np.array(lst_model),\n",
    "                             \"Accuracy\": np.array(lst_accuracy),\n",
    "                             \"Accuracy(Training)\": np.array(lst_accuracy_train),\n",
    "                             \"Accuracy(Test)\": np.array(lst_accuracy_test),\n",
    "                             \"CV Score\": np.array(lst_cv_score),\n",
    "                             \"True Positive\": np.array(lst_TP),\n",
    "                             \"True Negative\": np.array(lst_TN),\n",
    "                             \"False Positive\": np.array(lst_FP),\n",
    "                             \"False Negative\": np.array(lst_FN),\n",
    "                            })\n",
    "predictiondf"
   ]
  },
  {
   "cell_type": "code",
   "execution_count": null,
   "id": "e9f5228b",
   "metadata": {},
   "outputs": [],
   "source": [
    "test_df.info()"
   ]
  },
  {
   "cell_type": "code",
   "execution_count": null,
   "id": "076f5535",
   "metadata": {},
   "outputs": [],
   "source": [
    "test_df.isnull().sum()"
   ]
  },
  {
   "cell_type": "code",
   "execution_count": null,
   "id": "6f329526",
   "metadata": {},
   "outputs": [],
   "source": [
    "# Fill null values similar to what we did in training dataset\n",
    "test_df.Age = test_df.Age.fillna(value=test_df.Age.mean())\n",
    "# Fill Fare with mode value\n",
    "test_df.Fare = test_df.Fare.fillna(value=test_df.Fare.mode())"
   ]
  },
  {
   "cell_type": "code",
   "execution_count": null,
   "id": "e6d2e31d",
   "metadata": {},
   "outputs": [],
   "source": [
    "y = train_df[\"Survived\"]\n",
    "\n",
    "features = [\"Pclass\", \"Sex_male\", \"SibSp\", \"Parch\"]\n",
    "X = pd.get_dummies(train_df[features])\n",
    "X_test = pd.get_dummies(test_df[features])\n",
    "\n",
    "model = RandomForestClassifier(n_estimators=100, max_depth=5, random_state=1)\n",
    "model.fit(X, y)\n",
    "predictions = model.predict(X_test)"
   ]
  },
  {
   "cell_type": "code",
   "execution_count": null,
   "id": "00c903e7",
   "metadata": {},
   "outputs": [],
   "source": [
    "output = pd.DataFrame({'PassengerId': test_df.PassengerId, 'Survived': predictions})\n",
    "output.to_csv('submission.csv', index=False)\n",
    "print(\"Your submission was successfully saved!\")"
   ]
  },
  {
   "cell_type": "code",
   "execution_count": null,
   "id": "a265b288",
   "metadata": {},
   "outputs": [],
   "source": [
    "!kaggle competitions submit -c titanic -f submission.csv -m \"Message\""
   ]
  },
  {
   "cell_type": "code",
   "execution_count": null,
   "id": "0a72adaf",
   "metadata": {},
   "outputs": [],
   "source": []
  }
 ],
 "metadata": {
  "kernelspec": {
   "display_name": "Python 3 (ipykernel)",
   "language": "python",
   "name": "python3"
  },
  "language_info": {
   "codemirror_mode": {
    "name": "ipython",
    "version": 3
   },
   "file_extension": ".py",
   "mimetype": "text/x-python",
   "name": "python",
   "nbconvert_exporter": "python",
   "pygments_lexer": "ipython3",
   "version": "3.9.2"
  }
 },
 "nbformat": 4,
 "nbformat_minor": 5
}
